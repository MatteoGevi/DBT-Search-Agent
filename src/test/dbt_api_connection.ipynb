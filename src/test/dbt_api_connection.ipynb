{
 "cells": [
  {
   "cell_type": "code",
   "execution_count": 6,
   "id": "e581b2c9-8a0c-437d-aeb8-e18ff4c6bcc7",
   "metadata": {},
   "outputs": [],
   "source": [
    "import os"
   ]
  },
  {
   "cell_type": "code",
   "execution_count": 4,
   "id": "6b961fa0-7c6c-4316-953f-86408827b5b8",
   "metadata": {},
   "outputs": [
    {
     "data": {
      "text/plain": [
       "'Env Variables'"
      ]
     },
     "execution_count": 4,
     "metadata": {},
     "output_type": "execute_result"
    }
   ],
   "source": [
    "'''Env Variables'''\n",
    "\n",
    "# DBT Variables Access\n",
    "DBT_API_TOKEN = 'your_dbt_api_token_here'\n",
    "ACCOUNT_ID = 'your_account_id_here'\n",
    "PROJECT_ID = 'your_project_id_here'\n",
    "\n",
    "# CLaude credentials\n",
    "CLAUDE_API_TOKEN = 'claude_api_token'\n",
    "CLAUDE_API_URL = \"https://api.anthropic.com/v1/complete\"\n",
    "\n",
    "# dbt API URL for fetching model metadata\n",
    "BASE_URL = f\"https://cloud.getdbt.com/api/v2/accounts/{ACCOUNT_ID}/projects/{PROJECT_ID}/models/\""
   ]
  },
  {
   "cell_type": "code",
   "execution_count": null,
   "id": "ff90eb16-8a55-4df2-b284-f3a0b3e9fc6d",
   "metadata": {},
   "outputs": [],
   "source": [
    "'''DBT API Access'''\n",
    "\n",
    "# Headers for API authorization\n",
    "headers = {\n",
    "    \"Authorization\": f\"Token {DBT_API_TOKEN}\",\n",
    "    \"Content-Type\": \"application/json\"\n",
    "}"
   ]
  },
  {
   "cell_type": "code",
   "execution_count": null,
   "id": "b8f2a1c9-6e22-4c06-9afc-0dfc842129dd",
   "metadata": {},
   "outputs": [],
   "source": []
  },
  {
   "cell_type": "code",
   "execution_count": null,
   "id": "368f2406-7ed3-4e20-a01a-579ebecd75b1",
   "metadata": {},
   "outputs": [],
   "source": [
    "'''MetaData Fetch'''\n",
    "\n",
    "def fetch_dbt_models():\n",
    "    \"\"\"Fetches model metadata from dbt Cloud API.\"\"\"\n",
    "    response = requests.get(BASE_URL, headers=headers)\n",
    "    \n",
    "    if response.status_code == 200:\n",
    "        models_data = response.json().get('data', [])\n",
    "        return models_data\n",
    "    else:\n",
    "        print(f\"Failed to retrieve data: {response.status_code}\")\n",
    "        return None\n",
    "\n",
    "def parse_model_metadata(models_data):\n",
    "    \"\"\"Parses model metadata and extracts relevant information.\"\"\"\n",
    "    models = []\n",
    "    for model in models_data:\n",
    "        model_name = model.get('name')\n",
    "        description = model.get('description', 'No description')\n",
    "        columns = model.get('columns', {})\n",
    "        \n",
    "        # Extract column names and descriptions\n",
    "        for column_name, column_info in columns.items():\n",
    "            models.append({\n",
    "                \"Model Name\": model_name,\n",
    "                \"Model Description\": description,\n",
    "                \"Column Name\": column_name,\n",
    "                \"Column Description\": column_info.get('description', 'No description')\n",
    "            })\n",
    "    \n",
    "    return pd.DataFrame(models)\n",
    "\n",
    "# Fetch and parse dbt model metadata\n",
    "models_data = fetch_dbt_models()\n",
    "if models_data:\n",
    "    models_df = parse_model_metadata(models_data)\n",
    "    print(models_df)\n",
    "else:\n",
    "    print(\"No data retrieved.\")"
   ]
  }
 ],
 "metadata": {
  "kernelspec": {
   "display_name": "Python 3 (ipykernel)",
   "language": "python",
   "name": "python3"
  },
  "language_info": {
   "codemirror_mode": {
    "name": "ipython",
    "version": 3
   },
   "file_extension": ".py",
   "mimetype": "text/x-python",
   "name": "python",
   "nbconvert_exporter": "python",
   "pygments_lexer": "ipython3",
   "version": "3.12.7"
  }
 },
 "nbformat": 4,
 "nbformat_minor": 5
}
