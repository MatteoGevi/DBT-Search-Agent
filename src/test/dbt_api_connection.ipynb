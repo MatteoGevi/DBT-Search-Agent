{
 "cells": [
  {
   "cell_type": "code",
   "execution_count": 4,
   "id": "e581b2c9-8a0c-437d-aeb8-e18ff4c6bcc7",
   "metadata": {},
   "outputs": [],
   "source": [
    "import os\n",
    "import requests"
   ]
  },
  {
   "cell_type": "code",
   "execution_count": 6,
   "id": "6b961fa0-7c6c-4316-953f-86408827b5b8",
   "metadata": {},
   "outputs": [],
   "source": [
    "'''Env Variables'''\n",
    "\n",
    "# DBT Variables Access\n",
    "DBT_API_TOKEN = 'dbtu_LT3gC24mf7hUYklhObE_8Nw3wsPlx4QkI_osc7j39Y3SR-PMPs'\n",
    "ACCOUNT_ID = '70403103965332'\n",
    "PROJECT_ID = 'your_project_id_here'\n",
    "\n",
    "# CLaude credentials\n",
    "CLAUDE_API_TOKEN = 'claude_api_token'\n",
    "CLAUDE_API_URL = \"https://api.anthropic.com/v1/complete\"\n",
    "\n",
    "# dbt API URL for fetching model metadata\n",
    "BASE_URL = f\"https://cloud.getdbt.com/api/v2/accounts/{ACCOUNT_ID}/projects/{PROJECT_ID}/models/\""
   ]
  },
  {
   "cell_type": "code",
   "execution_count": 12,
   "id": "ff90eb16-8a55-4df2-b284-f3a0b3e9fc6d",
   "metadata": {},
   "outputs": [
    {
     "name": "stdout",
     "output_type": "stream",
     "text": [
      "Failed to connect to dbt API. Status Code: 404\n",
      "Response: \n",
      "<!doctype html>\n",
      "<html lang=\"en\">\n",
      "<head>\n",
      "  <title>Not Found</title>\n",
      "</head>\n",
      "<body>\n",
      "  <h1>Not Found</h1><p>The requested resource was not found on this server.</p>\n",
      "</body>\n",
      "</html>\n",
      "\n"
     ]
    }
   ],
   "source": [
    "'''DBT API Access'''\n",
    "\n",
    "# Headers for API authorization\n",
    "HEADERS = {\n",
    "    \"Authorization\": f\"Token {DBT_API_TOKEN}\",\n",
    "    \"Content-Type\": \"application/json\"\n",
    "}\n",
    "\n",
    "try:\n",
    "    response = requests.get(BASE_URL, headers=HEADERS)\n",
    "    if response.status_code == 200:\n",
    "        print(\"Connection to dbt API successful!\")\n",
    "        response.json()\n",
    "    else:\n",
    "        print(f\"Failed to connect to dbt API. Status Code: {response.status_code}\")\n",
    "        print(f\"Response: {response.text}\")\n",
    "except Exception as e:\n",
    "    print(f\"Error connecting to dbt API: {e}\")"
   ]
  },
  {
   "cell_type": "code",
   "execution_count": null,
   "id": "b8f2a1c9-6e22-4c06-9afc-0dfc842129dd",
   "metadata": {},
   "outputs": [],
   "source": []
  },
  {
   "cell_type": "code",
   "execution_count": null,
   "id": "368f2406-7ed3-4e20-a01a-579ebecd75b1",
   "metadata": {},
   "outputs": [],
   "source": [
    "'''MetaData Fetch'''\n",
    "\n",
    "def fetch_dbt_models():\n",
    "    \"\"\"Fetches model metadata from dbt Cloud API.\"\"\"\n",
    "    response = requests.get(BASE_URL, headers=headers)\n",
    "    \n",
    "    if response.status_code == 200:\n",
    "        models_data = response.json().get('data', [])\n",
    "        return models_data\n",
    "    else:\n",
    "        print(f\"Failed to retrieve data: {response.status_code}\")\n",
    "        return None\n",
    "\n",
    "def parse_model_metadata(models_data):\n",
    "    \"\"\"Parses model metadata and extracts relevant information.\"\"\"\n",
    "    models = []\n",
    "    for model in models_data:\n",
    "        model_name = model.get('name')\n",
    "        description = model.get('description', 'No description')\n",
    "        columns = model.get('columns', {})\n",
    "        \n",
    "        # Extract column names and descriptions\n",
    "        for column_name, column_info in columns.items():\n",
    "            models.append({\n",
    "                \"Model Name\": model_name,\n",
    "                \"Model Description\": description,\n",
    "                \"Column Name\": column_name,\n",
    "                \"Column Description\": column_info.get('description', 'No description')\n",
    "            })\n",
    "    \n",
    "    return pd.DataFrame(models)\n",
    "\n",
    "# Fetch and parse dbt model metadata\n",
    "models_data = fetch_dbt_models()\n",
    "if models_data:\n",
    "    models_df = parse_model_metadata(models_data)\n",
    "    print(models_df)\n",
    "else:\n",
    "    print(\"No data retrieved.\")"
   ]
  }
 ],
 "metadata": {
  "kernelspec": {
   "display_name": "Python 3 (ipykernel)",
   "language": "python",
   "name": "python3"
  },
  "language_info": {
   "codemirror_mode": {
    "name": "ipython",
    "version": 3
   },
   "file_extension": ".py",
   "mimetype": "text/x-python",
   "name": "python",
   "nbconvert_exporter": "python",
   "pygments_lexer": "ipython3",
   "version": "3.12.7"
  }
 },
 "nbformat": 4,
 "nbformat_minor": 5
}
